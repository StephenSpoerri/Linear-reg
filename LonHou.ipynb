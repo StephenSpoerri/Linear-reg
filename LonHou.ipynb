{
 "cells": [
  {
   "cell_type": "code",
   "execution_count": 1,
   "id": "fd713f34",
   "metadata": {},
   "outputs": [
    {
     "data": {
      "text/html": [
       "<div>\n",
       "<style scoped>\n",
       "    .dataframe tbody tr th:only-of-type {\n",
       "        vertical-align: middle;\n",
       "    }\n",
       "\n",
       "    .dataframe tbody tr th {\n",
       "        vertical-align: top;\n",
       "    }\n",
       "\n",
       "    .dataframe thead th {\n",
       "        text-align: right;\n",
       "    }\n",
       "</style>\n",
       "<table border=\"1\" class=\"dataframe\">\n",
       "  <thead>\n",
       "    <tr style=\"text-align: right;\">\n",
       "      <th></th>\n",
       "      <th>Unnamed: 0</th>\n",
       "      <th>Property Name</th>\n",
       "      <th>Price</th>\n",
       "      <th>House Type</th>\n",
       "      <th>Area in sq ft</th>\n",
       "      <th>No. of Bedrooms</th>\n",
       "      <th>No. of Bathrooms</th>\n",
       "      <th>No. of Receptions</th>\n",
       "      <th>Location</th>\n",
       "      <th>City/County</th>\n",
       "      <th>Postal Code</th>\n",
       "    </tr>\n",
       "  </thead>\n",
       "  <tbody>\n",
       "    <tr>\n",
       "      <th>0</th>\n",
       "      <td>0</td>\n",
       "      <td>Queens Road</td>\n",
       "      <td>1675000</td>\n",
       "      <td>House</td>\n",
       "      <td>2716</td>\n",
       "      <td>5</td>\n",
       "      <td>5</td>\n",
       "      <td>5</td>\n",
       "      <td>Wimbledon</td>\n",
       "      <td>London</td>\n",
       "      <td>SW19 8NY</td>\n",
       "    </tr>\n",
       "    <tr>\n",
       "      <th>1</th>\n",
       "      <td>1</td>\n",
       "      <td>Seward Street</td>\n",
       "      <td>650000</td>\n",
       "      <td>Flat / Apartment</td>\n",
       "      <td>814</td>\n",
       "      <td>2</td>\n",
       "      <td>2</td>\n",
       "      <td>2</td>\n",
       "      <td>Clerkenwell</td>\n",
       "      <td>London</td>\n",
       "      <td>EC1V 3PA</td>\n",
       "    </tr>\n",
       "    <tr>\n",
       "      <th>2</th>\n",
       "      <td>2</td>\n",
       "      <td>Hotham Road</td>\n",
       "      <td>735000</td>\n",
       "      <td>Flat / Apartment</td>\n",
       "      <td>761</td>\n",
       "      <td>2</td>\n",
       "      <td>2</td>\n",
       "      <td>2</td>\n",
       "      <td>Putney</td>\n",
       "      <td>London</td>\n",
       "      <td>SW15 1QL</td>\n",
       "    </tr>\n",
       "    <tr>\n",
       "      <th>3</th>\n",
       "      <td>3</td>\n",
       "      <td>Festing Road</td>\n",
       "      <td>1765000</td>\n",
       "      <td>House</td>\n",
       "      <td>1986</td>\n",
       "      <td>4</td>\n",
       "      <td>4</td>\n",
       "      <td>4</td>\n",
       "      <td>Putney</td>\n",
       "      <td>London</td>\n",
       "      <td>SW15 1LP</td>\n",
       "    </tr>\n",
       "    <tr>\n",
       "      <th>4</th>\n",
       "      <td>4</td>\n",
       "      <td>Spencer Walk</td>\n",
       "      <td>675000</td>\n",
       "      <td>Flat / Apartment</td>\n",
       "      <td>700</td>\n",
       "      <td>2</td>\n",
       "      <td>2</td>\n",
       "      <td>2</td>\n",
       "      <td>Putney</td>\n",
       "      <td>London</td>\n",
       "      <td>SW15 1PL</td>\n",
       "    </tr>\n",
       "  </tbody>\n",
       "</table>\n",
       "</div>"
      ],
      "text/plain": [
       "   Unnamed: 0  Property Name    Price        House Type  Area in sq ft  \\\n",
       "0           0    Queens Road  1675000             House           2716   \n",
       "1           1  Seward Street   650000  Flat / Apartment            814   \n",
       "2           2    Hotham Road   735000  Flat / Apartment            761   \n",
       "3           3   Festing Road  1765000             House           1986   \n",
       "4           4   Spencer Walk   675000  Flat / Apartment            700   \n",
       "\n",
       "   No. of Bedrooms  No. of Bathrooms  No. of Receptions     Location  \\\n",
       "0                5                 5                  5    Wimbledon   \n",
       "1                2                 2                  2  Clerkenwell   \n",
       "2                2                 2                  2       Putney   \n",
       "3                4                 4                  4       Putney   \n",
       "4                2                 2                  2       Putney   \n",
       "\n",
       "  City/County Postal Code  \n",
       "0      London    SW19 8NY  \n",
       "1      London    EC1V 3PA  \n",
       "2      London    SW15 1QL  \n",
       "3      London    SW15 1LP  \n",
       "4      London    SW15 1PL  "
      ]
     },
     "execution_count": 1,
     "metadata": {},
     "output_type": "execute_result"
    }
   ],
   "source": [
    "import pandas as pd\n",
    "housing_data = pd.read_csv ('London.csv')\n",
    "housing_data.head()"
   ]
  },
  {
   "cell_type": "code",
   "execution_count": 2,
   "id": "aa45566e",
   "metadata": {},
   "outputs": [
    {
     "data": {
      "text/html": [
       "<div>\n",
       "<style scoped>\n",
       "    .dataframe tbody tr th:only-of-type {\n",
       "        vertical-align: middle;\n",
       "    }\n",
       "\n",
       "    .dataframe tbody tr th {\n",
       "        vertical-align: top;\n",
       "    }\n",
       "\n",
       "    .dataframe thead th {\n",
       "        text-align: right;\n",
       "    }\n",
       "</style>\n",
       "<table border=\"1\" class=\"dataframe\">\n",
       "  <thead>\n",
       "    <tr style=\"text-align: right;\">\n",
       "      <th></th>\n",
       "      <th>Unnamed: 0</th>\n",
       "      <th>Price</th>\n",
       "      <th>Area in sq ft</th>\n",
       "      <th>No. of Bedrooms</th>\n",
       "      <th>No. of Bathrooms</th>\n",
       "      <th>No. of Receptions</th>\n",
       "    </tr>\n",
       "  </thead>\n",
       "  <tbody>\n",
       "    <tr>\n",
       "      <th>count</th>\n",
       "      <td>3480.000000</td>\n",
       "      <td>3.480000e+03</td>\n",
       "      <td>3480.000000</td>\n",
       "      <td>3480.000000</td>\n",
       "      <td>3480.000000</td>\n",
       "      <td>3480.000000</td>\n",
       "    </tr>\n",
       "    <tr>\n",
       "      <th>mean</th>\n",
       "      <td>1739.500000</td>\n",
       "      <td>1.864173e+06</td>\n",
       "      <td>1712.973563</td>\n",
       "      <td>3.103736</td>\n",
       "      <td>3.103736</td>\n",
       "      <td>3.103736</td>\n",
       "    </tr>\n",
       "    <tr>\n",
       "      <th>std</th>\n",
       "      <td>1004.733796</td>\n",
       "      <td>2.267283e+06</td>\n",
       "      <td>1364.259351</td>\n",
       "      <td>1.517698</td>\n",
       "      <td>1.517698</td>\n",
       "      <td>1.517698</td>\n",
       "    </tr>\n",
       "    <tr>\n",
       "      <th>min</th>\n",
       "      <td>0.000000</td>\n",
       "      <td>1.800000e+05</td>\n",
       "      <td>274.000000</td>\n",
       "      <td>0.000000</td>\n",
       "      <td>0.000000</td>\n",
       "      <td>0.000000</td>\n",
       "    </tr>\n",
       "    <tr>\n",
       "      <th>25%</th>\n",
       "      <td>869.750000</td>\n",
       "      <td>7.500000e+05</td>\n",
       "      <td>834.000000</td>\n",
       "      <td>2.000000</td>\n",
       "      <td>2.000000</td>\n",
       "      <td>2.000000</td>\n",
       "    </tr>\n",
       "    <tr>\n",
       "      <th>50%</th>\n",
       "      <td>1739.500000</td>\n",
       "      <td>1.220000e+06</td>\n",
       "      <td>1310.000000</td>\n",
       "      <td>3.000000</td>\n",
       "      <td>3.000000</td>\n",
       "      <td>3.000000</td>\n",
       "    </tr>\n",
       "    <tr>\n",
       "      <th>75%</th>\n",
       "      <td>2609.250000</td>\n",
       "      <td>2.150000e+06</td>\n",
       "      <td>2157.250000</td>\n",
       "      <td>4.000000</td>\n",
       "      <td>4.000000</td>\n",
       "      <td>4.000000</td>\n",
       "    </tr>\n",
       "    <tr>\n",
       "      <th>max</th>\n",
       "      <td>3479.000000</td>\n",
       "      <td>3.975000e+07</td>\n",
       "      <td>15405.000000</td>\n",
       "      <td>10.000000</td>\n",
       "      <td>10.000000</td>\n",
       "      <td>10.000000</td>\n",
       "    </tr>\n",
       "  </tbody>\n",
       "</table>\n",
       "</div>"
      ],
      "text/plain": [
       "        Unnamed: 0         Price  Area in sq ft  No. of Bedrooms  \\\n",
       "count  3480.000000  3.480000e+03    3480.000000      3480.000000   \n",
       "mean   1739.500000  1.864173e+06    1712.973563         3.103736   \n",
       "std    1004.733796  2.267283e+06    1364.259351         1.517698   \n",
       "min       0.000000  1.800000e+05     274.000000         0.000000   \n",
       "25%     869.750000  7.500000e+05     834.000000         2.000000   \n",
       "50%    1739.500000  1.220000e+06    1310.000000         3.000000   \n",
       "75%    2609.250000  2.150000e+06    2157.250000         4.000000   \n",
       "max    3479.000000  3.975000e+07   15405.000000        10.000000   \n",
       "\n",
       "       No. of Bathrooms  No. of Receptions  \n",
       "count       3480.000000        3480.000000  \n",
       "mean           3.103736           3.103736  \n",
       "std            1.517698           1.517698  \n",
       "min            0.000000           0.000000  \n",
       "25%            2.000000           2.000000  \n",
       "50%            3.000000           3.000000  \n",
       "75%            4.000000           4.000000  \n",
       "max           10.000000          10.000000  "
      ]
     },
     "execution_count": 2,
     "metadata": {},
     "output_type": "execute_result"
    }
   ],
   "source": [
    "housing_data.describe()"
   ]
  },
  {
   "cell_type": "code",
   "execution_count": 9,
   "id": "b0f629ce",
   "metadata": {},
   "outputs": [
    {
     "data": {
      "text/plain": [
       "<matplotlib.collections.PathCollection at 0x7f96b253f5b0>"
      ]
     },
     "execution_count": 9,
     "metadata": {},
     "output_type": "execute_result"
    },
    {
     "data": {
      "image/png": "[encoded data removed]",
      "text/plain": [
       "<Figure size 1440x1440 with 1 Axes>"
      ]
     },
     "metadata": {
      "needs_background": "light"
     },
     "output_type": "display_data"
    }
   ],
   "source": [
    "Price = housing_data['Price']\n",
    "No_of_bedrooms = housing_data[['No. of Bedrooms']]\n",
    "median_data = housing_data[['No. of Bedrooms', 'Price']]\n",
    "import matplotlib.pyplot as plt\n",
    "plt.figure(figsize = (20,20))\n",
    "plt.ylabel('No. of Bedrooms')\n",
    "plt.xlabel('Price')\n",
    "plt.scatter(Price, No_of_bedrooms)\n"
   ]
  },
  {
   "cell_type": "code",
   "execution_count": 6,
   "id": "8a5018bc",
   "metadata": {},
   "outputs": [],
   "source": [
    "import numpy as np\n",
    "import statsmodels.api as sm"
   ]
  },
  {
   "cell_type": "code",
   "execution_count": 10,
   "id": "9151f82b",
   "metadata": {},
   "outputs": [
    {
     "name": "stdout",
     "output_type": "stream",
     "text": [
      "2.9154153902676375e-07\n",
      "2.560251900877632\n"
     ]
    }
   ],
   "source": [
    "x_ary = housing_data['Price']\n",
    "x_with_cnst = sm.add_constant(x_ary)\n",
    "model = sm.OLS(housing_data['No. of Bedrooms'], x_with_cnst)\n",
    "results = model.fit()\n",
    "b,m = results.params\n",
    "print(m)\n",
    "print(b)"
   ]
  },
  {
   "cell_type": "code",
   "execution_count": 11,
   "id": "e8dad1d5",
   "metadata": {},
   "outputs": [
    {
     "name": "stdout",
     "output_type": "stream",
     "text": [
      "                            OLS Regression Results                            \n",
      "==============================================================================\n",
      "Dep. Variable:        No. of Bedrooms   R-squared:                       0.190\n",
      "Model:                            OLS   Adj. R-squared:                  0.189\n",
      "Method:                 Least Squares   F-statistic:                     814.2\n",
      "Date:                Mon, 11 Jul 2022   Prob (F-statistic):          4.34e-161\n",
      "Time:                        14:04:10   Log-Likelihood:                -6023.3\n",
      "No. Observations:                3480   AIC:                         1.205e+04\n",
      "Df Residuals:                    3478   BIC:                         1.206e+04\n",
      "Df Model:                           1                                         \n",
      "Covariance Type:            nonrobust                                         \n",
      "==============================================================================\n",
      "                 coef    std err          t      P>|t|      [0.025      0.975]\n",
      "------------------------------------------------------------------------------\n",
      "const          2.5603      0.030     85.376      0.000       2.501       2.619\n",
      "Price       2.915e-07   1.02e-08     28.534      0.000    2.72e-07    3.12e-07\n",
      "==============================================================================\n",
      "Omnibus:                       90.741   Durbin-Watson:                   1.850\n",
      "Prob(Omnibus):                  0.000   Jarque-Bera (JB):              105.764\n",
      "Skew:                           0.349   Prob(JB):                     1.08e-23\n",
      "Kurtosis:                       3.492   Cond. No.                     3.80e+06\n",
      "==============================================================================\n",
      "\n",
      "Notes:\n",
      "[1] Standard Errors assume that the covariance matrix of the errors is correctly specified.\n",
      "[2] The condition number is large, 3.8e+06. This might indicate that there are\n",
      "strong multicollinearity or other numerical problems.\n"
     ]
    }
   ],
   "source": [
    "print(results.summary())"
   ]
  },
  {
   "cell_type": "code",
   "execution_count": 12,
   "id": "b1ea6b84",
   "metadata": {},
   "outputs": [
    {
     "data": {
      "text/plain": [
       "[<matplotlib.lines.Line2D at 0x7f96b2f9deb0>]"
      ]
     },
     "execution_count": 12,
     "metadata": {},
     "output_type": "execute_result"
    },
    {
     "data": {
      "image/png": "[encoded data removed]",
      "text/plain": [
       "<Figure size 1440x1440 with 1 Axes>"
      ]
     },
     "metadata": {
      "needs_background": "light"
     },
     "output_type": "display_data"
    }
   ],
   "source": [
    "plt.figure(figsize = (20,20))\n",
    "plt.scatter(housing_data['Price'],housing_data['No. of Bedrooms'])\n",
    "plt.plot(x_ary, m*x_ary+b, color = 'red', linewidth = 5)"
   ]
  },
  {
   "cell_type": "code",
   "execution_count": null,
   "id": "9dfb01f3",
   "metadata": {},
   "outputs": [],
   "source": []
  }
 ],
 "metadata": {
  "kernelspec": {
   "display_name": "Python 3 (ipykernel)",
   "language": "python",
   "name": "python3"
  },
  "language_info": {
   "codemirror_mode": {
    "name": "ipython",
    "version": 3
   },
   "file_extension": ".py",
   "mimetype": "text/x-python",
   "name": "python",
   "nbconvert_exporter": "python",
   "pygments_lexer": "ipython3",
   "version": "3.9.12"
  }
 },
 "nbformat": 4,
 "nbformat_minor": 5
}
